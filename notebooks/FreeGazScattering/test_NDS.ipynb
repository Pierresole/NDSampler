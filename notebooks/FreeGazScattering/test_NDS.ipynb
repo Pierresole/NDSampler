{
 "cells": [
  {
   "cell_type": "code",
   "execution_count": 1,
   "metadata": {},
   "outputs": [
    {
     "data": {
      "text/plain": [
       "{32: {151: [0]}}"
      ]
     },
     "execution_count": 1,
     "metadata": {},
     "output_type": "execute_result"
    }
   ],
   "source": [
    "from ENDFtk.tree import Tape\n",
    "from NDSampler import NDSampler, generate_covariance_dict\n",
    "import numpy as np\n",
    "\n",
    "# Read the ENDF file\n",
    "endf_tape = Tape.from_file('/home/sole-pie01/ndlib/endfb8-neutron/n-029_Cu_063.endf')\n",
    "# endf_tape = Tape.from_file('/home/sole-pie01/work/ndlib/tendl23-neutron/n-Fe056.tendl.txt')\n",
    "# Create an instance of ENDFSampler\n",
    "covariance_dict = generate_covariance_dict(endf_tape)\n",
    "\n",
    "# Generate samples\n",
    "# sampler = NDS('covariance_data.hdf5', endf_tape)\n",
    "# num_samples = 10000  # Number of samples you want to generate\n",
    "# # sampler.load_and_sample_covariance_objects(num_samples)  # This will create files 'sampled_tape_1.endf', 'sampled_tape_2.endf', etc.\n",
    "# sampler.test_sample_covariance_objects(num_samples) \n",
    "\n",
    "covariance_dict"
   ]
  },
  {
   "cell_type": "code",
   "execution_count": 4,
   "metadata": {},
   "outputs": [
    {
     "data": {
      "text/plain": [
       "{32: {151: [0]}}"
      ]
     },
     "execution_count": 4,
     "metadata": {},
     "output_type": "execute_result"
    }
   ],
   "source": [
    "# Say we don't want to include the covariance matrix MF=33\n",
    "# del covariance_dict[33]\n",
    "covariance_dict"
   ]
  },
  {
   "cell_type": "code",
   "execution_count": 2,
   "metadata": {},
   "outputs": [],
   "source": [
    "sampler = NDSampler(endf_tape, covariance_dict=covariance_dict)"
   ]
  },
  {
   "cell_type": "code",
   "execution_count": 4,
   "metadata": {},
   "outputs": [
    {
     "name": "stdout",
     "output_type": "stream",
     "text": [
      "found group ResonanceRange\n",
      "found subgroup URR_BreitWigner\n",
      "Generating sample 1...\n",
      "Generating sample 2...\n",
      "Generating sample 3...\n"
     ]
    }
   ],
   "source": [
    "num_samples = 3\n",
    "sampler.load_and_sample_covariance_objects(num_samples)  # This will create files 'sampled_tape_1.endf', 'sampled_tape_2.endf', etc."
   ]
  }
 ],
 "metadata": {
  "kernelspec": {
   "display_name": "nd",
   "language": "python",
   "name": "python3"
  },
  "language_info": {
   "codemirror_mode": {
    "name": "ipython",
    "version": 3
   },
   "file_extension": ".py",
   "mimetype": "text/x-python",
   "name": "python",
   "nbconvert_exporter": "python",
   "pygments_lexer": "ipython3",
   "version": "3.13.1"
  }
 },
 "nbformat": 4,
 "nbformat_minor": 2
}
