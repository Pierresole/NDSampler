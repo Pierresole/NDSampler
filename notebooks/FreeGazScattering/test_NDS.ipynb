{
 "cells": [
  {
   "cell_type": "code",
   "execution_count": null,
   "metadata": {},
   "outputs": [
    {
     "data": {
      "text/plain": [
       "{32: {151: [0]}}"
      ]
     },
     "execution_count": 1,
     "metadata": {},
     "output_type": "execute_result"
    }
   ],
   "source": [
    "from ENDFtk.tree import Tape\n",
    "from NDSampler import NDSampler, generate_covariance_dict\n",
    "import numpy as np\n",
    "\n",
    "# Read the ENDF file\n",
    "endf_tape = Tape.from_file('/home/sole-pie01/ndlib/endfb8-neutron/n-029_Cu_063.endf')\n",
    "# endf_tape = Tape.from_file('/home/sole-pie01/work/ndlib/tendl23-neutron/n-Fe056.tendl.txt')\n",
    "# Create an instance of ENDFSampler\n",
    "covariance_dict = generate_covariance_dict(endf_tape)\n",
    "\n",
    "# Generate samples\n",
    "# sampler = NDS('covariance_data.hdf5', endf_tape)\n",
    "# num_samples = 10000  # Number of samples you want to generate\n",
    "# # sampler.load_and_sample_covariance_objects(num_samples)  # This will create files 'sampled_tape_1.endf', 'sampled_tape_2.endf', etc.\n",
    "# sampler.test_sample_covariance_objects(num_samples) \n",
    "\n",
    "# del covariance_dict[33]\n",
    "covariance_dict"
   ]
  },
  {
   "cell_type": "code",
   "execution_count": 3,
   "metadata": {},
   "outputs": [
    {
     "ename": "AttributeError",
     "evalue": "'Uncertainty_RML_RRR' object has no attribute 'write_to_hdf5'",
     "output_type": "error",
     "traceback": [
      "\u001b[0;31m---------------------------------------------------------------------------\u001b[0m",
      "\u001b[0;31mAttributeError\u001b[0m                            Traceback (most recent call last)",
      "Cell \u001b[0;32mIn[3], line 1\u001b[0m\n\u001b[0;32m----> 1\u001b[0m sampler \u001b[38;5;241m=\u001b[39m \u001b[43mNDSampler\u001b[49m\u001b[43m(\u001b[49m\u001b[43mendf_tape\u001b[49m\u001b[43m,\u001b[49m\u001b[43m \u001b[49m\u001b[43mcovariance_dict\u001b[49m\u001b[38;5;241;43m=\u001b[39;49m\u001b[43mcovariance_dict\u001b[49m\u001b[43m)\u001b[49m\n",
      "File \u001b[0;32m~/codes/NuclearDataSampler/sources/NDSampler/NDSampler.py:32\u001b[0m, in \u001b[0;36mNDSampler.__init__\u001b[0;34m(self, endf_tape, covariance_dict, hdf5_filename)\u001b[0m\n\u001b[1;32m     30\u001b[0m \u001b[38;5;66;03m# Initialize covariance objects based on covariance_dict\u001b[39;00m\n\u001b[1;32m     31\u001b[0m \u001b[38;5;28mself\u001b[39m\u001b[38;5;241m.\u001b[39mcovariance_objects \u001b[38;5;241m=\u001b[39m []\n\u001b[0;32m---> 32\u001b[0m \u001b[38;5;28;43mself\u001b[39;49m\u001b[38;5;241;43m.\u001b[39;49m\u001b[43m_initialize_covariance_objects\u001b[49m\u001b[43m(\u001b[49m\u001b[43m)\u001b[49m\n",
      "File \u001b[0;32m~/codes/NuclearDataSampler/sources/NDSampler/NDSampler.py:59\u001b[0m, in \u001b[0;36mNDSampler._initialize_covariance_objects\u001b[0;34m(self)\u001b[0m\n\u001b[1;32m     57\u001b[0m     ResonanceRangeCovariance\u001b[38;5;241m.\u001b[39mfill_from_resonance_range(\u001b[38;5;28mself\u001b[39m\u001b[38;5;241m.\u001b[39mendf_tape, covariance_objects)\n\u001b[1;32m     58\u001b[0m     \u001b[38;5;28mself\u001b[39m\u001b[38;5;241m.\u001b[39mcovariance_objects\u001b[38;5;241m.\u001b[39mextend(covariance_objects)\n\u001b[0;32m---> 59\u001b[0m     \u001b[38;5;28;43mself\u001b[39;49m\u001b[38;5;241;43m.\u001b[39;49m\u001b[43m_add_covariance_to_hdf5\u001b[49m\u001b[43m(\u001b[49m\u001b[43mcovariance_objects\u001b[49m\u001b[43m,\u001b[49m\u001b[43m \u001b[49m\u001b[38;5;124;43m\"\u001b[39;49m\u001b[38;5;124;43mResonanceRange\u001b[39;49m\u001b[38;5;124;43m\"\u001b[39;49m\u001b[43m)\u001b[49m\n\u001b[1;32m     60\u001b[0m \u001b[38;5;28;01melif\u001b[39;00m MF \u001b[38;5;241m==\u001b[39m \u001b[38;5;241m34\u001b[39m:\n\u001b[1;32m     61\u001b[0m     covariance_objects \u001b[38;5;241m=\u001b[39m []\n",
      "File \u001b[0;32m~/codes/NuclearDataSampler/sources/NDSampler/NDSampler.py:44\u001b[0m, in \u001b[0;36mNDSampler._add_covariance_to_hdf5\u001b[0;34m(self, covariance_objects, covariance_type_name)\u001b[0m\n\u001b[1;32m     42\u001b[0m subgroup_name \u001b[38;5;241m=\u001b[39m covariance_obj\u001b[38;5;241m.\u001b[39mget_covariance_type()\n\u001b[1;32m     43\u001b[0m subgroup \u001b[38;5;241m=\u001b[39m group\u001b[38;5;241m.\u001b[39mcreate_group(subgroup_name)\n\u001b[0;32m---> 44\u001b[0m \u001b[43mcovariance_obj\u001b[49m\u001b[38;5;241;43m.\u001b[39;49m\u001b[43mwrite_to_hdf5\u001b[49m(subgroup)\n",
      "\u001b[0;31mAttributeError\u001b[0m: 'Uncertainty_RML_RRR' object has no attribute 'write_to_hdf5'"
     ]
    }
   ],
   "source": [
    "sampler = NDSampler(endf_tape, covariance_dict=covariance_dict)"
   ]
  },
  {
   "cell_type": "code",
   "execution_count": 4,
   "metadata": {},
   "outputs": [
    {
     "name": "stdout",
     "output_type": "stream",
     "text": [
      "Generating sample 1...\n",
      "Generating sample 2...\n",
      "Generating sample 3...\n"
     ]
    }
   ],
   "source": [
    "num_samples = 3\n",
    "sampler.load_and_sample_covariance_objects(num_samples)  # This will create files 'sampled_tape_1.endf', 'sampled_tape_2.endf', etc."
   ]
  }
 ],
 "metadata": {
  "kernelspec": {
   "display_name": "nd",
   "language": "python",
   "name": "python3"
  },
  "language_info": {
   "codemirror_mode": {
    "name": "ipython",
    "version": 3
   },
   "file_extension": ".py",
   "mimetype": "text/x-python",
   "name": "python",
   "nbconvert_exporter": "python",
   "pygments_lexer": "ipython3",
   "version": "3.13.1"
  }
 },
 "nbformat": 4,
 "nbformat_minor": 2
}
