{
 "cells": [
  {
   "cell_type": "code",
   "execution_count": 5,
   "metadata": {},
   "outputs": [],
   "source": [
    "import sys\n",
    "import os\n",
    "\n",
    "# Add the src directory to the system path\n",
    "sys.path.append(os.path.abspath(os.path.join('..', 'src')))\n",
    "\n",
    "from ENDFtk.tree import Tape\n",
    "from importlib import reload\n",
    "import NuclearDataSampler\n",
    "reload(NuclearDataSampler)\n",
    "from NuclearDataSampler import NuclearDataSampler as NDS\n",
    "import numpy as np\n",
    "\n",
    "# Read the ENDF file\n",
    "# endf_tape = Tape.from_file('/home/sole-pie01/work/ndlib/tendl17-neutron/n-U235-s20.tendl.txt')\n",
    "endf_tape = Tape.from_file('/home/sole-pie01/work/ndlib/tendl23-neutron/n-Fe056.tendl.txt')\n",
    "# Create an instance of ENDFSampler\n",
    "covariance_dict = NDS._generate_covariance_dict(endf_tape)\n",
    "\n",
    "# Generate samples\n",
    "# sampler = NDS('covariance_data.hdf5', endf_tape)\n",
    "# num_samples = 10000  # Number of samples you want to generate\n",
    "# # sampler.load_and_sample_covariance_objects(num_samples)  # This will create files 'sampled_tape_1.endf', 'sampled_tape_2.endf', etc.\n",
    "# sampler.test_sample_covariance_objects(num_samples) "
   ]
  },
  {
   "cell_type": "code",
   "execution_count": 7,
   "metadata": {},
   "outputs": [
    {
     "data": {
      "text/plain": [
       "{32: {151: [0, 1]},\n",
       " 34: {2: {2: {1: [1, 2, 3, 4, 5, 6],\n",
       "    2: [2, 3, 4, 5, 6],\n",
       "    3: [3, 4, 5, 6],\n",
       "    4: [4, 5, 6],\n",
       "    5: [5, 6],\n",
       "    6: [6]}}}}"
      ]
     },
     "execution_count": 7,
     "metadata": {},
     "output_type": "execute_result"
    }
   ],
   "source": [
    "del covariance_dict[33]\n",
    "covariance_dict"
   ]
  },
  {
   "cell_type": "code",
   "execution_count": 10,
   "metadata": {},
   "outputs": [
    {
     "ename": "TypeError",
     "evalue": "AngularDistributionCovariance.fill_from_resonance_range() missing 1 required positional argument: 'NER'",
     "output_type": "error",
     "traceback": [
      "\u001b[0;31m---------------------------------------------------------------------------\u001b[0m",
      "\u001b[0;31mTypeError\u001b[0m                                 Traceback (most recent call last)",
      "Cell \u001b[0;32mIn[10], line 1\u001b[0m\n\u001b[0;32m----> 1\u001b[0m sampler \u001b[38;5;241m=\u001b[39m \u001b[43mNDS\u001b[49m\u001b[43m(\u001b[49m\u001b[43mendf_tape\u001b[49m\u001b[43m,\u001b[49m\u001b[43m \u001b[49m\u001b[43mcovariance_dict\u001b[49m\u001b[38;5;241;43m=\u001b[39;49m\u001b[43mcovariance_dict\u001b[49m\u001b[43m)\u001b[49m\n",
      "File \u001b[0;32m~/mycodes/ENDFSampler/src/NuclearDataSampler.py:32\u001b[0m, in \u001b[0;36mNuclearDataSampler.__init__\u001b[0;34m(self, endf_tape, covariance_dict, hdf5_filename)\u001b[0m\n\u001b[1;32m     30\u001b[0m \u001b[38;5;66;03m# Initialize covariance objects based on covariance_dict\u001b[39;00m\n\u001b[1;32m     31\u001b[0m \u001b[38;5;28mself\u001b[39m\u001b[38;5;241m.\u001b[39mcovariance_objects \u001b[38;5;241m=\u001b[39m []\n\u001b[0;32m---> 32\u001b[0m \u001b[38;5;28;43mself\u001b[39;49m\u001b[38;5;241;43m.\u001b[39;49m\u001b[43m_initialize_covariance_objects\u001b[49m\u001b[43m(\u001b[49m\u001b[43m)\u001b[49m\n",
      "File \u001b[0;32m~/mycodes/ENDFSampler/src/NuclearDataSampler.py:108\u001b[0m, in \u001b[0;36mNuclearDataSampler._initialize_covariance_objects\u001b[0;34m(self)\u001b[0m\n\u001b[1;32m    106\u001b[0m \u001b[38;5;28;01melif\u001b[39;00m MF \u001b[38;5;241m==\u001b[39m \u001b[38;5;241m34\u001b[39m:\n\u001b[1;32m    107\u001b[0m     covariance_objects \u001b[38;5;241m=\u001b[39m []\n\u001b[0;32m--> 108\u001b[0m     \u001b[43mAngularDistributionCovariance\u001b[49m\u001b[38;5;241;43m.\u001b[39;49m\u001b[43mfill_from_resonance_range\u001b[49m\u001b[43m(\u001b[49m\u001b[38;5;28;43mself\u001b[39;49m\u001b[38;5;241;43m.\u001b[39;49m\u001b[43mendf_tape\u001b[49m\u001b[43m,\u001b[49m\u001b[43m \u001b[49m\u001b[43mcovariance_objects\u001b[49m\u001b[43m)\u001b[49m\n\u001b[1;32m    109\u001b[0m     \u001b[38;5;28mself\u001b[39m\u001b[38;5;241m.\u001b[39mcovariance_objects\u001b[38;5;241m.\u001b[39mextend(covariance_objects)\n\u001b[1;32m    110\u001b[0m     \u001b[38;5;28mself\u001b[39m\u001b[38;5;241m.\u001b[39m_add_covariance_to_hdf5(covariance_objects, \u001b[38;5;124m\"\u001b[39m\u001b[38;5;124mAngularDist\u001b[39m\u001b[38;5;124m\"\u001b[39m)\n",
      "\u001b[0;31mTypeError\u001b[0m: AngularDistributionCovariance.fill_from_resonance_range() missing 1 required positional argument: 'NER'"
     ]
    }
   ],
   "source": [
    "sampler = NDS(endf_tape, covariance_dict=covariance_dict)"
   ]
  },
  {
   "cell_type": "code",
   "execution_count": 4,
   "metadata": {},
   "outputs": [
    {
     "name": "stdout",
     "output_type": "stream",
     "text": [
      "found group ResonanceRange\n",
      "found subgroup URR_BreitWigner\n",
      "Generating sample 1...\n",
      "Generating sample 2...\n",
      "Generating sample 3...\n"
     ]
    }
   ],
   "source": [
    "num_samples = 3\n",
    "sampler.load_and_sample_covariance_objects(num_samples)  # This will create files 'sampled_tape_1.endf', 'sampled_tape_2.endf', etc."
   ]
  }
 ],
 "metadata": {
  "kernelspec": {
   "display_name": "nd",
   "language": "python",
   "name": "python3"
  },
  "language_info": {
   "codemirror_mode": {
    "name": "ipython",
    "version": 3
   },
   "file_extension": ".py",
   "mimetype": "text/x-python",
   "name": "python",
   "nbconvert_exporter": "python",
   "pygments_lexer": "ipython3",
   "version": "3.11.10"
  }
 },
 "nbformat": 4,
 "nbformat_minor": 2
}
