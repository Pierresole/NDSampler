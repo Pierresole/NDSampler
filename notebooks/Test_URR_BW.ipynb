{
 "cells": [
  {
   "cell_type": "code",
   "execution_count": 2,
   "metadata": {},
   "outputs": [
    {
     "ename": "ImportError",
     "evalue": "attempted relative import with no known parent package",
     "output_type": "error",
     "traceback": [
      "\u001b[0;31m---------------------------------------------------------------------------\u001b[0m",
      "\u001b[0;31mImportError\u001b[0m                               Traceback (most recent call last)",
      "Cell \u001b[0;32mIn[2], line 2\u001b[0m\n\u001b[1;32m      1\u001b[0m \u001b[38;5;28;01mimport\u001b[39;00m \u001b[38;5;21;01mimportlib\u001b[39;00m\n\u001b[0;32m----> 2\u001b[0m \u001b[38;5;28;01mimport\u001b[39;00m \u001b[38;5;21;01mURR_BWUncertainty\u001b[39;00m\n\u001b[1;32m      3\u001b[0m importlib\u001b[38;5;241m.\u001b[39mreload(URR_BWUncertainty)\n\u001b[1;32m      4\u001b[0m \u001b[38;5;28;01mfrom\u001b[39;00m \u001b[38;5;21;01mURR_BWUncertainty\u001b[39;00m \u001b[38;5;28;01mimport\u001b[39;00m URRBreitWignerUncertainty\n",
      "File \u001b[0;32m~/codes/ENDFSampler/src/resonance_uncertainty/URR_BWUncertainty.py:3\u001b[0m\n\u001b[1;32m      1\u001b[0m \u001b[38;5;28;01mimport\u001b[39;00m \u001b[38;5;21;01mnumpy\u001b[39;00m \u001b[38;5;28;01mas\u001b[39;00m \u001b[38;5;21;01mnp\u001b[39;00m\n\u001b[1;32m      2\u001b[0m \u001b[38;5;28;01mfrom\u001b[39;00m \u001b[38;5;21;01mcollections\u001b[39;00m \u001b[38;5;28;01mimport\u001b[39;00m defaultdict\n\u001b[0;32m----> 3\u001b[0m \u001b[38;5;28;01mfrom\u001b[39;00m \u001b[38;5;21;01m.\u001b[39;00m\u001b[38;5;21;01mResonanceRangeCovariance\u001b[39;00m \u001b[38;5;28;01mimport\u001b[39;00m ResonanceRangeCovariance\n\u001b[1;32m      4\u001b[0m \u001b[38;5;28;01mfrom\u001b[39;00m \u001b[38;5;21;01m.\u001b[39;00m\u001b[38;5;21;01mURR_BreitWigner_Parameters\u001b[39;00m \u001b[38;5;28;01mimport\u001b[39;00m URREnergyDependent\n\u001b[1;32m      5\u001b[0m \u001b[38;5;28;01mfrom\u001b[39;00m \u001b[38;5;21;01mmathmatrix\u001b[39;00m \u001b[38;5;28;01mimport\u001b[39;00m CovarianceMatrixHandler\n",
      "\u001b[0;31mImportError\u001b[0m: attempted relative import with no known parent package"
     ]
    }
   ],
   "source": [
    "import URR_BWUncertainty\n",
    "from URR_BWUncertainty import URRBreitWignerUncertainty\n",
    "from ENDFtk.tree import Tape\n",
    "\n",
    "# Read the ENDF file\n",
    "endf_tape = Tape.from_file('/home/sole-pie01/work/ndlib/tendl17-neutron/n-U235-s20.tendl.txt')\n",
    "\n",
    "mf2 = endf_tape.MAT(endf_tape.material_numbers[0]).MF(2).MT(151).parse()\n",
    "mf32 = endf_tape.MAT(endf_tape.material_numbers[0]).MF(32).MT(151).parse()\n",
    "\n",
    "\n",
    "# mf32.isotopes[0].resonance_ranges[1].parameters.covariance_matrix.MPAR\n",
    "\n",
    "# Create an instance of URRBreitWignerUncertainty\n",
    "urr_uncertainty = URRBreitWignerUncertainty(mf32.isotopes[0].resonance_ranges[1], mf2.isotopes[0].resonance_ranges[1], 1)\n",
    "\n",
    "# Sample parameters\n",
    "num_samples = 3\n",
    "for i in range(num_samples):\n",
    "    urr_uncertainty.sample_parameters(mode='replace')\n",
    "    urr_uncertainty.update_tape(endf_tape,1,i)"
   ]
  }
 ],
 "metadata": {
  "kernelspec": {
   "display_name": "nd",
   "language": "python",
   "name": "python3"
  },
  "language_info": {
   "codemirror_mode": {
    "name": "ipython",
    "version": 3
   },
   "file_extension": ".py",
   "mimetype": "text/x-python",
   "name": "python",
   "nbconvert_exporter": "python",
   "pygments_lexer": "ipython3",
   "version": "3.13.1"
  }
 },
 "nbformat": 4,
 "nbformat_minor": 2
}
