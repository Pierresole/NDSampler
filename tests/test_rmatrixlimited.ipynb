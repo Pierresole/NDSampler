{
 "cells": [
  {
   "cell_type": "code",
   "execution_count": 10,
   "metadata": {},
   "outputs": [],
   "source": [
    "import numpy as np\n",
    "from ENDFtk.tree import Tape\n",
    "from ENDFtk.MF2.MT151 import (ParticlePairs, ResonanceChannels, ResonanceParameters, SpinGroup, RMatrixLimited, ResonanceRange, Isotope, Section)\n",
    "\n",
    "tape = Tape.from_file('/home/sole-pie01/ndlib/endfb8-neutron/n-029_Cu_063.endf')# OK\n",
    "\n",
    "MATMF2MT151 = tape.MAT(tape.material_numbers[0]).MF(2).MT(151).parse()\n",
    "\n",
    "isotopeIndex = 0 # Always zero\n",
    "rangeIndex = 0 # User defined\n",
    "RANGE = MATMF2MT151.isotopes[isotopeIndex].resonance_ranges[rangeIndex]\n",
    "pairs = ParticlePairs( RANGE.parameters.particle_pairs )\n",
    "\n",
    "groups = []\n",
    "for sgroup in RANGE.parameters.spin_groups.to_list():\n",
    "    groups.append( SpinGroup( ResonanceChannels( sgroup.channels ),\n",
    "                              ResonanceParameters( sgroup.parameters.ER, sgroup.parameters.GAM ) ))\n",
    "    \n",
    "\n",
    "parameters = RMatrixLimited( ifg = RANGE.parameters.IFG, \n",
    "                             krl = RANGE.parameters.KRL, \n",
    "                             krm = RANGE.parameters.KRM,\n",
    "                             pairs = pairs, \n",
    "                             groups = groups            )\n",
    "\n",
    "isotopes = [ Isotope( zai = MATMF2MT151.isotopes[isotopeIndex].ZAI, \n",
    "                      abn = MATMF2MT151.isotopes[isotopeIndex].ABN, \n",
    "                      lfw = MATMF2MT151.isotopes[isotopeIndex].LFW,\n",
    "                      ranges = [ ResonanceRange( el = RANGE.EL, \n",
    "                                                 eh = RANGE.EH,\n",
    "                                                 naps = RANGE.NAPS, \n",
    "                                                 parameters = parameters ) ] ) ]\n",
    "dummySection = Section( zaid = MATMF2MT151.ZA, awr = MATMF2MT151.AWR, isotopes = isotopes )\n",
    "\n",
    "# tape.MAT(tape.material_numbers[0]).MF(2).insert_or_replace( dummySection )\n",
    "# tape.to_file(\"toto.endf\")\n"
   ]
  },
  {
   "cell_type": "code",
   "execution_count": 3,
   "metadata": {},
   "outputs": [],
   "source": [
    "import ENDFtk\n",
    "import NDSampler\n",
    "from NDSampler.resonance.RMatrixLimited.Parameters_RML_RRR import RMatrixLimited\n",
    "\n",
    "# StoreRMatrixLimited = RMatrixLimited()\n",
    "# StoreRMatrixLimited.from_endftk(range = RANGE)\n",
    "\n",
    "# Test assignment\n",
    "# StoreRMatrixLimited.ListSpinGroup[0].ResonanceParameters.ER[1] = -200\n",
    "\n",
    "MATMF32MT151 = tape.MAT(tape.material_numbers[0]).MF(32).MT(151).parse()\n",
    "\n",
    "assert RMatrixLimited().from_endftk(mf2_range = RANGE, mf32_range = MATMF32MT151.isotopes[0].resonance_ranges[0]).reconstruct().to_string(2925, 2, 151) == parameters.to_string(2925, 2, 151)"
   ]
  },
  {
   "cell_type": "code",
   "execution_count": 12,
   "metadata": {},
   "outputs": [],
   "source": [
    "import ENDFtk\n",
    "import NDSampler\n",
    "from NDSampler.resonance.RMatrixLimited.Parameters_RML_RRR import RMatrixLimited\n",
    "\n",
    "# StoreRMatrixLimited = RMatrixLimited()\n",
    "# StoreRMatrixLimited.from_endftk(range = RANGE)\n",
    "\n",
    "# Test assignment\n",
    "# StoreRMatrixLimited.ListSpinGroup[0].ResonanceParameters.ER[1] = -200\n",
    "\n",
    "mf2mt151 = tape.MAT(tape.material_numbers[0]).MF(2).MT(151).parse()\n",
    "original_isotope = mf2mt151.isotopes[0]\n",
    "resonance_ranges = original_isotope.resonance_ranges.to_list()\n",
    "\n",
    "NER = 0\n",
    "\n",
    "MATMF32MT151 = tape.MAT(tape.material_numbers[0]).MF(32).MT(151).parse()\n",
    "\n",
    "# Create new resonance range\n",
    "new_range = ENDFtk.MF2.MT151.ResonanceRange( el = resonance_ranges[NER].EL, \n",
    "                                             eh = resonance_ranges[NER].EH, \n",
    "                                             naps = resonance_ranges[NER].NAPS, \n",
    "                                             parameters = RMatrixLimited().from_endftk(mf2_range     = RANGE, \n",
    "                                                                                       mf32_range    = MATMF32MT151.isotopes[0].resonance_ranges[0], \n",
    "                                                                                       force_reduced = True ).reconstruct())\n",
    "\n",
    "resonance_ranges[0] = new_range\n",
    "\n",
    "# Create new isotope with updated resonance ranges\n",
    "new_isotope = ENDFtk.MF2.MT151.Isotope( zai=original_isotope.ZAI, abn=original_isotope.ABN, lfw=original_isotope.LFW, ranges=resonance_ranges)\n",
    "\n",
    "# Create new section with the updated isotope\n",
    "new_section = ENDFtk.MF2.MT151.Section( zaid=mf2mt151.ZA, awr=mf2mt151.AWR, isotopes=[new_isotope])\n",
    "\n",
    "# Replace the existing section in the tape\n",
    "mat_num = tape.material_numbers[0]\n",
    "tape.MAT(mat_num).MF(2).insert_or_replace(new_section)\n",
    "tape.to_file(f'reduced_tape.endf')"
   ]
  },
  {
   "cell_type": "markdown",
   "metadata": {},
   "source": [
    "# Test MF32 covariance matrix"
   ]
  },
  {
   "cell_type": "code",
   "execution_count": 5,
   "metadata": {},
   "outputs": [
    {
     "data": {
      "text/plain": [
       "3598"
      ]
     },
     "execution_count": 5,
     "metadata": {},
     "output_type": "execute_result"
    }
   ],
   "source": [
    "import NDSampler\n",
    "from NDSampler.resonance.RMatrixLimited.Parameters_RML_RRR import RMatrixLimited\n",
    "\n",
    "\n",
    "len(RMatrixLimited().from_endftk(mf2_range = RANGE, mf32_range = MATMF32MT151.isotopes[0].resonance_ranges[0]).getListStandardDeviation()[1])"
   ]
  },
  {
   "cell_type": "code",
   "execution_count": 6,
   "metadata": {},
   "outputs": [
    {
     "name": "stdout",
     "output_type": "stream",
     "text": [
      "DAP =  None\n"
     ]
    },
    {
     "data": {
      "text/plain": [
       "-1.0"
      ]
     },
     "execution_count": 6,
     "metadata": {},
     "output_type": "execute_result"
    }
   ],
   "source": [
    "MATMF32MT151 = tape.MAT(tape.material_numbers[0]).MF(32).MT(151).parse()\n",
    "RANGE32 = MATMF32MT151.isotopes[0].resonance_ranges[0]\n",
    "print(\"DAP = \", RANGE32.parameters.scattering_radius_uncertainty)\n",
    "\n",
    "RANGE.parameters.spin_groups[0].AJ"
   ]
  },
  {
   "cell_type": "code",
   "execution_count": 7,
   "metadata": {},
   "outputs": [
    {
     "name": "stdout",
     "output_type": "stream",
     "text": [
      "standard deviations: 3598\n"
     ]
    }
   ],
   "source": [
    "std_devs = []\n",
    "\n",
    "\n",
    "\n",
    "for spingroup in RANGE32.parameters.uncertainties.spin_groups.to_list():\n",
    "    for iER, DER in enumerate(spingroup.parameters.DER[:]):\n",
    "        std_devs.append(DER)\n",
    "        for iCH in range(spingroup.NCH):\n",
    "            std_devs.append(spingroup.parameters.DGAM[iER][iCH])\n",
    "\n",
    "print(\"standard deviations:\", len(std_devs))\n"
   ]
  },
  {
   "cell_type": "code",
   "execution_count": 8,
   "metadata": {},
   "outputs": [
    {
     "name": "stdout",
     "output_type": "stream",
     "text": [
      "NNN 3598\n",
      "NNN 3598\n"
     ]
    }
   ],
   "source": [
    "total_resonances = sum( ((sgroup.NCH + 1 ) * sgroup.NRSA) for sgroup in RANGE32.parameters.uncertainties.spin_groups.to_list())\n",
    "\n",
    "print(\"NNN\", RANGE32.parameters.correlation_matrix.NNN)\n",
    "print(\"NNN\", total_resonances)"
   ]
  },
  {
   "cell_type": "code",
   "execution_count": 9,
   "metadata": {},
   "outputs": [
    {
     "name": "stdout",
     "output_type": "stream",
     "text": [
      "Time for RMatrixLimited.from_endftk: 0.0146 seconds\n"
     ]
    },
    {
     "ename": "AttributeError",
     "evalue": "'SpinGroup' object has no attribute 'ResonanceParameters'",
     "output_type": "error",
     "traceback": [
      "\u001b[0;31m---------------------------------------------------------------------------\u001b[0m",
      "\u001b[0;31mAttributeError\u001b[0m                            Traceback (most recent call last)",
      "Cell \u001b[0;32mIn[9], line 22\u001b[0m\n\u001b[1;32m     15\u001b[0m rangeIndex \u001b[38;5;241m=\u001b[39m \u001b[38;5;241m0\u001b[39m \u001b[38;5;66;03m# User defined\u001b[39;00m\n\u001b[1;32m     16\u001b[0m latex_column_names \u001b[38;5;241m=\u001b[39m {\n\u001b[1;32m     17\u001b[0m     \u001b[38;5;124m'\u001b[39m\u001b[38;5;124menergy\u001b[39m\u001b[38;5;124m'\u001b[39m: \u001b[38;5;124mr\u001b[39m\u001b[38;5;124m'\u001b[39m\u001b[38;5;124m$E$\u001b[39m\u001b[38;5;124m'\u001b[39m,\n\u001b[1;32m     18\u001b[0m     \u001b[38;5;124m'\u001b[39m\u001b[38;5;124mCu64 + photon [inclusive] width\u001b[39m\u001b[38;5;124m'\u001b[39m: \u001b[38;5;124mr\u001b[39m\u001b[38;5;124m'\u001b[39m\u001b[38;5;124m$\u001b[39m\u001b[38;5;124m\\\u001b[39m\u001b[38;5;124mGamma_\u001b[39m\u001b[38;5;124m\\\u001b[39m\u001b[38;5;124mgamma$\u001b[39m\u001b[38;5;124m'\u001b[39m,\n\u001b[1;32m     19\u001b[0m     \u001b[38;5;124m'\u001b[39m\u001b[38;5;124mn + Cu63 width\u001b[39m\u001b[38;5;124m'\u001b[39m: \u001b[38;5;124mr\u001b[39m\u001b[38;5;124m'\u001b[39m\u001b[38;5;124m$\u001b[39m\u001b[38;5;124m\\\u001b[39m\u001b[38;5;124mGamma_n$\u001b[39m\u001b[38;5;124m'\u001b[39m,\n\u001b[1;32m     20\u001b[0m     \u001b[38;5;124m'\u001b[39m\u001b[38;5;124mn + Cu63 width_2\u001b[39m\u001b[38;5;124m'\u001b[39m: \u001b[38;5;124mr\u001b[39m\u001b[38;5;124m'\u001b[39m\u001b[38;5;124m$\u001b[39m\u001b[38;5;124m\\\u001b[39m\u001b[38;5;124mGamma_n2$\u001b[39m\u001b[38;5;124m'\u001b[39m\n\u001b[1;32m     21\u001b[0m }\n\u001b[0;32m---> 22\u001b[0m \u001b[38;5;28mobject\u001b[39m \u001b[38;5;241m=\u001b[39m \u001b[43mUncertainty_RML_RRR\u001b[49m\u001b[43m(\u001b[49m\u001b[43mMATMF2MT151\u001b[49m\u001b[38;5;241;43m.\u001b[39;49m\u001b[43misotopes\u001b[49m\u001b[43m[\u001b[49m\u001b[43misotopeIndex\u001b[49m\u001b[43m]\u001b[49m\u001b[38;5;241;43m.\u001b[39;49m\u001b[43mresonance_ranges\u001b[49m\u001b[43m[\u001b[49m\u001b[43mrangeIndex\u001b[49m\u001b[43m]\u001b[49m\u001b[43m,\u001b[49m\u001b[43m \u001b[49m\n\u001b[1;32m     23\u001b[0m \u001b[43m                                  \u001b[49m\u001b[43mMATMF32MT151\u001b[49m\u001b[38;5;241;43m.\u001b[39;49m\u001b[43misotopes\u001b[49m\u001b[43m[\u001b[49m\u001b[43misotopeIndex\u001b[49m\u001b[43m]\u001b[49m\u001b[38;5;241;43m.\u001b[39;49m\u001b[43mresonance_ranges\u001b[49m\u001b[43m[\u001b[49m\u001b[43mrangeIndex\u001b[49m\u001b[43m]\u001b[49m\u001b[43m,\u001b[49m\n\u001b[1;32m     24\u001b[0m \u001b[43m                                  \u001b[49m\u001b[43mrangeIndex\u001b[49m\u001b[43m)\u001b[49m\n\u001b[1;32m     26\u001b[0m variance_vector \u001b[38;5;241m=\u001b[39m np\u001b[38;5;241m.\u001b[39mdiag(\u001b[38;5;28mobject\u001b[39m\u001b[38;5;241m.\u001b[39mcovariance_matrix)\n\u001b[1;32m     28\u001b[0m \u001b[38;5;66;03m# Example: retrieve parameters for spin group 0 (J=0) and parameter index 0 (P=0)\u001b[39;00m\n",
      "File \u001b[0;32m~/codes/NuclearDataSampler/sources/NDSampler/resonance/RMatrixLimited/Uncertainty_RML_RRR.py:28\u001b[0m, in \u001b[0;36mUncertainty_RML_RRR.__init__\u001b[0;34m(self, mf2_resonance_ranges, mf32_resonance_range, NER)\u001b[0m\n\u001b[1;32m     25\u001b[0m \u001b[38;5;28mself\u001b[39m\u001b[38;5;241m.\u001b[39mindex_mapping \u001b[38;5;241m=\u001b[39m []\n\u001b[1;32m     27\u001b[0m start_time \u001b[38;5;241m=\u001b[39m time\u001b[38;5;241m.\u001b[39mtime()\n\u001b[0;32m---> 28\u001b[0m \u001b[38;5;28;43mself\u001b[39;49m\u001b[38;5;241;43m.\u001b[39;49m\u001b[43mextract_covariance_matrix\u001b[49m\u001b[43m(\u001b[49m\u001b[43mmf32_resonance_range\u001b[49m\u001b[43m)\u001b[49m\n\u001b[1;32m     29\u001b[0m \u001b[38;5;28mprint\u001b[39m(\u001b[38;5;124mf\u001b[39m\u001b[38;5;124m\"\u001b[39m\u001b[38;5;124mTime for extract_covariance_matrix: \u001b[39m\u001b[38;5;132;01m{\u001b[39;00mtime\u001b[38;5;241m.\u001b[39mtime()\u001b[38;5;250m \u001b[39m\u001b[38;5;241m-\u001b[39m\u001b[38;5;250m \u001b[39mstart_time\u001b[38;5;132;01m:\u001b[39;00m\u001b[38;5;124m.4f\u001b[39m\u001b[38;5;132;01m}\u001b[39;00m\u001b[38;5;124m seconds\u001b[39m\u001b[38;5;124m\"\u001b[39m)\n\u001b[1;32m     31\u001b[0m start_time \u001b[38;5;241m=\u001b[39m time\u001b[38;5;241m.\u001b[39mtime()\n",
      "File \u001b[0;32m~/codes/NuclearDataSampler/sources/NDSampler/resonance/RMatrixLimited/Uncertainty_RML_RRR.py:166\u001b[0m, in \u001b[0;36mUncertainty_RML_RRR.extract_covariance_matrix\u001b[0;34m(self, mf32_range)\u001b[0m\n\u001b[1;32m    160\u001b[0m \u001b[38;5;28;01melse\u001b[39;00m:\n\u001b[1;32m    161\u001b[0m     \u001b[38;5;28;01mraise\u001b[39;00m \u001b[38;5;167;01mValueError\u001b[39;00m(\u001b[38;5;124mf\u001b[39m\u001b[38;5;124m\"\u001b[39m\u001b[38;5;124mUnsupported LCOMP value: \u001b[39m\u001b[38;5;132;01m{\u001b[39;00mmf32_range\u001b[38;5;241m.\u001b[39mparameters\u001b[38;5;241m.\u001b[39mLCOMP\u001b[38;5;132;01m}\u001b[39;00m\u001b[38;5;124m\"\u001b[39m)\n\u001b[1;32m    163\u001b[0m \u001b[38;5;28mself\u001b[39m\u001b[38;5;241m.\u001b[39mindex_mapping \u001b[38;5;241m=\u001b[39m [\n\u001b[1;32m    164\u001b[0m     (J_idx, R_idx, P_idx)\n\u001b[1;32m    165\u001b[0m     \u001b[38;5;28;01mfor\u001b[39;00m J_idx, spingroup \u001b[38;5;129;01min\u001b[39;00m \u001b[38;5;28menumerate\u001b[39m(\u001b[38;5;28mself\u001b[39m\u001b[38;5;241m.\u001b[39mrml_data\u001b[38;5;241m.\u001b[39mListSpinGroup)\n\u001b[0;32m--> 166\u001b[0m     \u001b[38;5;28;01mfor\u001b[39;00m R_idx, R_value \u001b[38;5;129;01min\u001b[39;00m \u001b[38;5;28menumerate\u001b[39m(\u001b[43mspingroup\u001b[49m\u001b[38;5;241;43m.\u001b[39;49m\u001b[43mResonanceParameters\u001b[49m)\n\u001b[1;32m    167\u001b[0m     \u001b[38;5;28;01mfor\u001b[39;00m P_idx \u001b[38;5;129;01min\u001b[39;00m \u001b[38;5;28mrange\u001b[39m(\u001b[38;5;28mlen\u001b[39m(R_value\u001b[38;5;241m.\u001b[39mGAM) \u001b[38;5;241m+\u001b[39m \u001b[38;5;241m1\u001b[39m)  \u001b[38;5;66;03m# Number of channels plus the energy\u001b[39;00m\n\u001b[1;32m    168\u001b[0m ]\n",
      "\u001b[0;31mAttributeError\u001b[0m: 'SpinGroup' object has no attribute 'ResonanceParameters'"
     ]
    }
   ],
   "source": [
    "import ENDFtk\n",
    "from ENDFtk.tree import Tape\n",
    "import numpy as np\n",
    "from matplotlib.gridspec import GridSpec\n",
    "import matplotlib.pyplot as plt\n",
    "\n",
    "import NDSampler\n",
    "from NDSampler.resonance.RMatrixLimited.Parameters_RML_RRR import SpinGroup\n",
    "from NDSampler.resonance.RMatrixLimited.Uncertainty_RML_RRR import Uncertainty_RML_RRR\n",
    "\n",
    "tape = Tape.from_file('/home/sole-pie01/ndlib/endfb8-neutron/n-029_Cu_063.endf')# OK\n",
    "MATMF2MT151 = tape.MAT(tape.material_numbers[0]).MF(2).MT(151).parse()\n",
    "MATMF32MT151 = tape.MAT(tape.material_numbers[0]).MF(32).MT(151).parse()\n",
    "isotopeIndex = 0 # Always zero\n",
    "rangeIndex = 0 # User defined\n",
    "latex_column_names = {\n",
    "    'energy': r'$E$',\n",
    "    'Cu64 + photon [inclusive] width': r'$\\Gamma_\\gamma$',\n",
    "    'n + Cu63 width': r'$\\Gamma_n$',\n",
    "    'n + Cu63 width_2': r'$\\Gamma_n2$'\n",
    "}\n",
    "object = Uncertainty_RML_RRR(MATMF2MT151.isotopes[isotopeIndex].resonance_ranges[rangeIndex], \n",
    "                                  MATMF32MT151.isotopes[isotopeIndex].resonance_ranges[rangeIndex],\n",
    "                                  rangeIndex)\n",
    "\n",
    "variance_vector = np.diag(object.covariance_matrix)\n",
    "\n",
    "# Example: retrieve parameters for spin group 0 (J=0) and parameter index 0 (P=0)\n",
    "J, P = 0, 0\n",
    "param_list = []\n",
    "for i, (j, r, p) in enumerate(object.index_mapping):\n",
    "    if j == J and p == P:\n",
    "        if P == 0:\n",
    "            # Resonance energy\n",
    "            param_list.append(object.rml_data.ListSpinGroup[j].ResonanceParameters[r].ER[0])\n",
    "        else:\n",
    "            # Channel width\n",
    "            param_list.append(object.rml_data.ListSpinGroup[j].ResonanceParameters[r].GAM[r][P - 1])\n",
    "\n",
    "print(param_list)\n",
    "\n",
    "object.index_mapping\n",
    "\n",
    "def plot_relative_uncertainty(spin_group: SpinGroup, variance_vector: np.ndarray, param_type: int):\n",
    "    \"\"\"\n",
    "    Plots the relative uncertainty vs resonance number.\n",
    "    param_type = 0 -> resonance energies\n",
    "    param_type = i > 0 -> width of the i-th channel\n",
    "    \"\"\"\n",
    "    # Gather data\n",
    "    values = []\n",
    "    for idx, resonance in enumerate(spin_group.ResonanceParameters):\n",
    "        if param_type == 0:\n",
    "            nominal = resonance.ER[0] if resonance.ER else 0.0\n",
    "        else:\n",
    "            ch_idx = param_type - 1\n",
    "            nominal = resonance.GAM[idx][ch_idx] if resonance.GAM and idx < len(resonance.GAM) else 0.0\n",
    "        values.append(nominal)\n",
    "\n",
    "    values = np.array(values)\n",
    "    # Extract the relevant variances\n",
    "    # (Assuming a simple 1D slice from variance_vector per resonance.)\n",
    "    # If each resonance has 1 parameter for energies or for i-th width, then:\n",
    "    uncertainties = np.sqrt(variance_vector[:len(values)])\n",
    "    # Compute relative (percent) uncertainty\n",
    "    rel_unc = np.where(values != 0, (uncertainties / np.abs(values))*100.0, 0.0)\n",
    "\n",
    "    # Plot\n",
    "    plt.figure()\n",
    "    plt.bar(range(len(values)), rel_unc, color='blue', alpha=0.7)\n",
    "    plt.xlabel(\"Resonance Number\")\n",
    "    plt.ylabel(\"Relative Uncertainty (%)\")\n",
    "    plt.title(\"SpinGroup Relative Uncertainty\" if param_type == 0 else f\"Channel {param_type} Width Relative Unc.\")\n",
    "    plt.show()\n",
    "    \n",
    "plot_relative_uncertainty(object.rml_data.spin_group, object.rml_data.variance_vector, 0)"
   ]
  },
  {
   "cell_type": "code",
   "execution_count": 13,
   "metadata": {},
   "outputs": [
    {
     "name": "stdout",
     "output_type": "stream",
     "text": [
      "[-37843.81, -266.7135, 650.7223, 2047.718, 3308.797, 3501.424, 4395.985, 4434.962, 4854.599, 5398.48, 6838.426, 7563.271, 8626.676, 8647.264, 9759.164, 9919.925, 10308.96, 13702.23, 15090.58, 15805.69, 17863.64, 18340.37, 20389.29, 20444.08, 20919.15, 21015.53, 21522.22, 23625.45, 25748.12, 29529.59, 29930.89, 30472.25, 31395.49, 32205.6, 35017.79, 36149.88, 37963.58, 39109.76, 42541.18, 44702.45, 44761.87, 45823.63, 52921.78, 53744.86, 55342.94, 57680.21, 59132.02, 59440.19, 59935.39, 64506.39, 64989.91, 66284.36, 68937.99, 69653.9, 72956.95, 73686.63, 74595.01, 79148.71, 81353.74, 81842.44, 85924.26, 87503.58, 87569.87, 89539.66, 90265.56, 94687.84, 95301.52, 96887.9, 97202.58, 98400.58, 98536.2, 98822.81, 101596.0, 102675.1, 104523.2, 105286.3, 107127.5, 107343.4, 107735.9, 108730.4, 109612.3, 114829.0, 115225.8, 116979.8, 117251.0, 118247.4, 120059.2, 121140.6, 124244.2, 124518.4, 125351.0, 125614.6, 125739.0, 126708.2, 126911.8, 129774.4, 131352.3, 132633.9, 133997.0, 135176.4, 135335.8, 136688.5, 137710.2, 137818.7, 142964.8, 145653.4, 146031.7, 146280.6, 148020.1, 150974.1, 151211.1, 151636.3, 152319.8, 153231.3, 153359.2, 154384.2, 155448.7, 155552.7, 158373.4, 161995.9, 162245.5, 163039.4, 165272.8, 166954.3, 167511.3, 167784.2, 169551.9, 170532.1, 170806.8, 170970.4, 171334.5, 172194.0, 173983.0, 174886.1, 178266.1, 182020.4, 183674.7, 184913.1, 189542.9, 191532.5, 192284.7, 193962.7, 196485.1, 196802.4, 200972.5, 201605.0, 202415.1, 205684.8, 212293.0, 214124.2, 214495.4, 217514.0, 218501.1, 219801.6, 225971.0, 226973.7, 228715.5, 230792.1, 231491.2, 236013.5, 237675.3, 238326.0, 239561.7, 240253.1, 241559.4, 242466.7, 247186.9, 248808.3, 250169.4, 258319.1, 258658.5, 262581.2, 265622.2, 270981.8, 272068.0, 274196.5, 277307.2, 280718.6, 287546.6, 287972.8, 290062.2, 296026.1, 297283.2, 298937.7, 301681.7, 305287.6, 305669.4, 314520.6, 323754.1]\n"
     ]
    }
   ],
   "source": []
  },
  {
   "cell_type": "code",
   "execution_count": 29,
   "metadata": {},
   "outputs": [
    {
     "data": {
      "text/plain": [
       "2"
      ]
     },
     "execution_count": 29,
     "metadata": {},
     "output_type": "execute_result"
    }
   ],
   "source": [
    "import ENDFtk\n",
    "from ENDFtk.Tree import Tape\n",
    "import numpy as np\n",
    "from matplotlib.gridspec import GridSpec\n",
    "import matplotlib.pyplot as plt\n",
    "\n",
    "import NDSampler\n",
    "from NDSampler.resonance.RMatrixLimited.Parameters import SpinGroup\n",
    "from NDSampler.resonance.RMatrixLimited.Uncertainty_RML_RRR import Uncertainty_RML_RRR\n",
    "\n",
    "# def plot_uncertainty(endf_tape : Tape):\n",
    "    \n",
    "    \n",
    "#     tape = Tape.from_file('/home/sole-pie01/ndlib/endfb8-neutron/n-029_Cu_063.endf')# OK\n",
    "\n",
    "#     MATMF2MT151 = tape.MAT(tape.material_numbers[0]).MF(2).MT(151).parse()\n",
    "#     MATMF32MT151 = tape.MAT(tape.material_numbers[0]).MF(32).MT(151).parse()\n",
    "\n",
    "#     isotopeIndex = 0 # Always zero\n",
    "#     rangeIndex = 0 # User defined\n",
    "    \n",
    "#     latex_column_names = {\n",
    "#         'energy': r'$E$',\n",
    "#         'Cu64 + photon [inclusive] width': r'$\\Gamma_\\gamma$',\n",
    "#         'n + Cu63 width': r'$\\Gamma_n$',\n",
    "#         'n + Cu63 width_2': r'$\\Gamma_n2$'\n",
    "#     }\n",
    "    \n",
    "#     object = Uncertainty_RML_RRR(MATMF2MT151.isotopes[isotopeIndex].resonance_ranges[rangeIndex], \n",
    "#                                       MATMF32MT151.isotopes[isotopeIndex].resonance_ranges[rangeIndex], \n",
    "#                                       rangeIndex)\n",
    "\n",
    "#     # Assuming spin_group_data and parameterCov are already defined\n",
    "#     plot_all_spin_groups(object.rml_data.ListSpinGroup, object.covariance_matrix, latex_column_names, show_labels=False)\n",
    "    \n",
    "def plot_relative_uncertainty(spin_group: SpinGroup, variance_vector: np.ndarray, param_type: int):\n",
    "    \"\"\"\n",
    "    Plots the relative uncertainty vs resonance number.\n",
    "    param_type = 0 -> resonance energies\n",
    "    param_type = i > 0 -> width of the i-th channel\n",
    "    \"\"\"\n",
    "    # Gather data\n",
    "    values = []\n",
    "    for idx, resonance in enumerate(spin_group.ResonanceParameters):\n",
    "        if param_type == 0:\n",
    "            nominal = resonance.ER[0] if resonance.ER else 0.0\n",
    "        else:\n",
    "            ch_idx = param_type - 1\n",
    "            nominal = resonance.GAM[idx][ch_idx] if resonance.GAM and idx < len(resonance.GAM) else 0.0\n",
    "        values.append(nominal)\n",
    "\n",
    "    values = np.array(values)\n",
    "    # Extract the relevant variances\n",
    "    # (Assuming a simple 1D slice from variance_vector per resonance.)\n",
    "    # If each resonance has 1 parameter for energies or for i-th width, then:\n",
    "    uncertainties = np.sqrt(variance_vector[:len(values)])\n",
    "    # Compute relative (percent) uncertainty\n",
    "    rel_unc = np.where(values != 0, (uncertainties / np.abs(values))*100.0, 0.0)\n",
    "\n",
    "    # Plot\n",
    "    plt.figure()\n",
    "    plt.bar(range(len(values)), rel_unc, color='blue', alpha=0.7)\n",
    "    plt.xlabel(\"Resonance Number\")\n",
    "    plt.ylabel(\"Relative Uncertainty (%)\")\n",
    "    plt.title(\"SpinGroup Relative Uncertainty\" if param_type == 0 else f\"Channel {param_type} Width Relative Unc.\")\n",
    "    plt.show()\n",
    "    \n",
    "# def plot_all_spin_groups(object: Uncertainty_RML_RRR, latex_column_names=None, show_labels=True):\n",
    "#     num_groups = len(object.rml_data.ListSpinGroup)\n",
    "    \n",
    "#     object.rml_data.ListSpinGroup[0].ResonanceChannels.spin\n",
    "    \n",
    "#     # Find the maximum number of parameters across all groups\n",
    "#     max_params = max([group_data['data'].shape[0] for group_data in spin_group_data.values()])\n",
    "#     num_parameters = 4  # We know each group has 3 parameters\n",
    "\n",
    "#     # Create a grid with an extra row for titles and an extra column for row names\n",
    "#     fig = plt.figure(figsize=(15, 2 * (num_groups + 1)))  # Adjust the 3 to control the overall height\n",
    "#     # The first element in width_ratios=[1.5] + [4] * num_parameters is use to tune the width of the first column\n",
    "#     gs = GridSpec(num_groups + 1, num_parameters + 1, figure=fig, height_ratios=[0.000001] + [1] * num_groups, width_ratios=[2.5] + [4] * num_parameters)\n",
    "    \n",
    "#     # Set up column titles\n",
    "#     first_group = next(iter(spin_group_data.values()))['data']\n",
    "#     param_names = first_group.columns\n",
    "#     for j, param_name in enumerate(param_names):\n",
    "#         ax = fig.add_subplot(gs[0, j + 1])\n",
    "#         ax.set_title(latex_column_names.get(param_name, param_name))\n",
    "#         ax.axis('off')\n",
    "\n",
    "#     # Set up row names and plots for each spin group\n",
    "#     global_param_index = 0\n",
    "#     for i, (group_label, group_data) in enumerate(spin_group_data.items()):\n",
    "#         df = group_data['data']\n",
    "#         # print(\"row number \", i)\n",
    "#         # print(df)\n",
    "#         # Extract the diagonal of the covariance matrix\n",
    "#         start_index = sum([spin_group_data[key]['data'].shape[0] * spin_group_data[key]['data'].shape[1] for key in spin_group_data if key < group_label])\n",
    "#         end_index = start_index + (df.shape[1] * df.shape[0])\n",
    "#         variances = np.array(variance_vector[start_index:end_index]).reshape((df.shape[0], df.shape[1]))\n",
    "\n",
    "#         # Set row names\n",
    "#         spin = group_data['spin']\n",
    "#         parity = group_data['parity']\n",
    "#         parity_symbol = \"+\" if int(parity) > 0 else \"-\"\n",
    "#         row_name = f\"$J^{{\\Pi}} = {spin}^{parity_symbol}$\"\n",
    "#         row_ax = fig.add_subplot(gs[i + 1, 0])\n",
    "#         row_ax.text(0.5, 0.5, row_name, ha='center', va='center', transform=row_ax.transAxes, fontsize=14)\n",
    "#         row_ax.axis('off')\n",
    "        \n",
    "#         # Plot parameters\n",
    "#         group_axes = [fig.add_subplot(gs[i + 1, j + 1]) for j in range(df.shape[1])]\n",
    "#         for j in range(df.shape[1]):\n",
    "#             show_y = (j == 1)  # Show y-axis label only for the second column\n",
    "#             show_x = (i == num_groups - 1)  # Show x-axis label only for the last row\n",
    "#             global_param_index = plot_parameters_with_relative_uncertainty(group_axes, df, variances, max_params, global_param_index, show_y, show_x)\n",
    "    \n",
    "#     plt.tight_layout(pad=2.0, h_pad=2.0, w_pad=2.0)\n",
    "#     plt.show()"
   ]
  }
 ],
 "metadata": {
  "kernelspec": {
   "display_name": "nd",
   "language": "python",
   "name": "python3"
  },
  "language_info": {
   "codemirror_mode": {
    "name": "ipython",
    "version": 3
   },
   "file_extension": ".py",
   "mimetype": "text/x-python",
   "name": "python",
   "nbconvert_exporter": "python",
   "pygments_lexer": "ipython3",
   "version": "3.13.1"
  }
 },
 "nbformat": 4,
 "nbformat_minor": 2
}
